{
 "cells": [
  {
   "cell_type": "code",
   "execution_count": null,
   "metadata": {},
   "outputs": [],
   "source": [
    "%pip install PyMuPDF faiss-cpu sentence-transformers requests\n"
   ]
  },
  {
   "cell_type": "code",
   "execution_count": null,
   "metadata": {},
   "outputs": [],
   "source": [
    "import fitz  # PyMuPDF\n",
    "import numpy as np\n",
    "import faiss\n",
    "from sentence_transformers import SentenceTransformer\n",
    "import requests\n",
    "import json\n",
    "from dotenv import load_dotenv\n",
    "import os"
   ]
  },
  {
   "cell_type": "code",
   "execution_count": null,
   "metadata": {},
   "outputs": [],
   "source": [
    "# Load environment variables\n",
    "load_dotenv()\n",
    "HF_TOKEN = os.getenv(\"HF_TOKEN\")\n",
    "\n",
    "# Define functions\n",
    "def extract_text_from_pdf(pdf_path):\n",
    "    \"\"\"Extract text from a PDF file.\"\"\"\n",
    "    pdf_document = fitz.open(pdf_path)\n",
    "    text = \"\"\n",
    "    for page_num in range(len(pdf_document)):\n",
    "        page = pdf_document.load_page(page_num)\n",
    "        text += page.get_text()\n",
    "    pdf_document.close()\n",
    "    return text\n",
    "\n",
    "def chunk_text(text, chunk_size=1000):\n",
    "    \"\"\"Split text into chunks of a specific size.\"\"\"\n",
    "    chunks = [text[i:i+chunk_size] for i in range(0, len(text), chunk_size)]\n",
    "    return chunks\n",
    "\n",
    "def get_embeddings(texts, model):\n",
    "    \"\"\"Get embeddings for a list of texts using a specified model.\"\"\"\n",
    "    embeddings = model.encode(texts, convert_to_tensor=True)\n",
    "    return embeddings\n",
    "\n",
    "def create_faiss_index(embeddings):\n",
    "    \"\"\"Create and populate a FAISS index.\"\"\"\n",
    "    embeddings_np = embeddings.cpu().numpy()  # Move to CPU and convert to numpy\n",
    "    dim = embeddings_np.shape[1]\n",
    "    index = faiss.IndexFlatL2(dim)\n",
    "    faiss_index = faiss.IndexIDMap(index)\n",
    "    faiss_index.add_with_ids(embeddings_np, np.arange(len(embeddings_np)))\n",
    "    return faiss_index\n",
    "\n",
    "def query_faiss_index(index, query_embedding, k=5):\n",
    "    \"\"\"Query the FAISS index for similar embeddings.\"\"\"\n",
    "    query_embedding_np = query_embedding.cpu().numpy()  # Move to CPU and convert to numpy\n",
    "    distances, indices = index.search(query_embedding_np, k)\n",
    "    return distances, indices"
   ]
  },
  {
   "cell_type": "code",
   "execution_count": null,
   "metadata": {},
   "outputs": [],
   "source": [
    "# Define paths and model\n",
    "data_folder = 'data'\n",
    "chunk_size = 1000\n",
    "model_name = 'all-MiniLM-L6-v2'  # Example model\n"
   ]
  },
  {
   "cell_type": "code",
   "execution_count": null,
   "metadata": {},
   "outputs": [],
   "source": [
    "# Process all PDFs in the data folder\n",
    "all_chunks = []\n",
    "pdf_files = [f for f in os.listdir(data_folder) if f.endswith('.pdf')]\n",
    "\n",
    "for pdf_file in pdf_files:\n",
    "    pdf_path = os.path.join(data_folder, pdf_file)\n",
    "    text = extract_text_from_pdf(pdf_path)\n",
    "    chunks = chunk_text(text, chunk_size)\n",
    "    all_chunks.extend(chunks)\n"
   ]
  },
  {
   "cell_type": "code",
   "execution_count": null,
   "metadata": {},
   "outputs": [],
   "source": [
    "# Initialize the sentence transformer model\n",
    "model = SentenceTransformer(model_name)\n",
    "\n",
    "# Process all PDFs in the data folder\n",
    "all_chunks = []\n",
    "pdf_files = [f for f in os.listdir(data_folder) if f.endswith('.pdf')]\n",
    "\n",
    "for pdf_file in pdf_files:\n",
    "    pdf_path = os.path.join(data_folder, pdf_file)\n",
    "    text = extract_text_from_pdf(pdf_path)\n",
    "    chunks = chunk_text(text, chunk_size)\n",
    "    all_chunks.extend(chunks)\n",
    "\n",
    "# Get embeddings for all chunks\n",
    "embeddings = get_embeddings(all_chunks, model)\n",
    "\n",
    "# Create FAISS index\n",
    "faiss_index = create_faiss_index(embeddings)\n"
   ]
  },
  {
   "cell_type": "code",
   "execution_count": null,
   "metadata": {},
   "outputs": [],
   "source": [
    "from langchain_huggingface import HuggingFaceEndpoint\n",
    "import os\n",
    "from langchain import PromptTemplate, LLMChain"
   ]
  },
  {
   "cell_type": "code",
   "execution_count": null,
   "metadata": {},
   "outputs": [],
   "source": [
    "# Set the Hugging Face token\n",
    "sec_key = os.getenv('HF_TOKEN')\n",
    "os.environ[\"HUGGINGFACEHUB_API_TOKEN\"] = sec_key\n",
    "\n",
    "# Define the Hugging Face model endpoint\n",
    "repo_id = \"mistralai/Mistral-7B-Instruct-v0.2\"\n",
    "llm = HuggingFaceEndpoint(repo_id=repo_id, max_length=128, temperature=0.7, token=sec_key)\n"
   ]
  },
  {
   "cell_type": "code",
   "execution_count": null,
   "metadata": {},
   "outputs": [],
   "source": [
    "# Query\n",
    "query_text = \"what is machine learning?\"\n",
    "query_embedding = get_embeddings([query_text], model)\n",
    "\n",
    "# Query the FAISS index\n",
    "distances, indices = query_faiss_index(faiss_index, query_embedding)\n",
    "\n",
    "# Get similar chunks\n",
    "similar_chunks = [all_chunks[i] for i in indices[0]]\n"
   ]
  },
  {
   "cell_type": "code",
   "execution_count": null,
   "metadata": {},
   "outputs": [],
   "source": [
    "# Define the prompt template with similar chunks\n",
    "template = \"\"\"Based on the following chunks: {similar_chunks}\n",
    "Question: {question}\n",
    "Answer: Let's think step by step.\"\"\"\n",
    "\n",
    "prompt_template = PromptTemplate(\n",
    "    input_variables=[\"similar_chunks\", \"question\"],\n",
    "    template=template,\n",
    ")\n"
   ]
  },
  {
   "cell_type": "code",
   "execution_count": null,
   "metadata": {},
   "outputs": [],
   "source": [
    "# Create the LLMChain with the LLM and prompt template\n",
    "llm_chain = LLMChain(llm=llm, prompt=prompt_template)"
   ]
  },
  {
   "cell_type": "code",
   "execution_count": null,
   "metadata": {},
   "outputs": [],
   "source": [
    "\n",
    "\n",
    "\n",
    "# Use the LLMChain to answer the question based on similar chunks\n",
    "text = llm_chain.invoke({\n",
    "    \"similar_chunks\": similar_chunks,\n",
    "    \"question\": query_text\n",
    "})\n",
    "\n",
    "print(text['question'])\n",
    "print(text['text'])"
   ]
  },
  {
   "cell_type": "code",
   "execution_count": null,
   "metadata": {},
   "outputs": [],
   "source": []
  }
 ],
 "metadata": {
  "kernelspec": {
   "display_name": "Python 3",
   "language": "python",
   "name": "python3"
  },
  "language_info": {
   "codemirror_mode": {
    "name": "ipython",
    "version": 3
   },
   "file_extension": ".py",
   "mimetype": "text/x-python",
   "name": "python",
   "nbconvert_exporter": "python",
   "pygments_lexer": "ipython3",
   "version": "3.12.0"
  }
 },
 "nbformat": 4,
 "nbformat_minor": 2
}
